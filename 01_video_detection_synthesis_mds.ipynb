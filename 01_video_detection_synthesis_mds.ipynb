{
  "cells": [
    {
      "cell_type": "markdown",
      "metadata": {
        "id": "53f69324-9a2c-4f97-bd96-a6509739b886"
      },
      "source": [
        "## <b><center>ПРАКТИКА</center></b>\n",
        "\n"
      ],
      "id": "53f69324-9a2c-4f97-bd96-a6509739b886"
    },
    {
      "cell_type": "markdown",
      "metadata": {
        "id": "41ZtATUp_B2I"
      },
      "source": [
        "# Подготовка окружения для выполнения задания\n",
        "В ходе выполнения задний нам понадобятся файлы с Google диска.\n",
        "Для этого нам нужно подключить диск где расположены файлы для выполнения задания:"
      ],
      "id": "41ZtATUp_B2I"
    },
    {
      "cell_type": "code",
      "execution_count": null,
      "metadata": {
        "id": "--UAxuKS-kiM"
      },
      "outputs": [],
      "source": [
        "from google.colab import drive\n",
        "drive.mount('/content/drive')"
      ],
      "id": "--UAxuKS-kiM"
    },
    {
      "cell_type": "markdown",
      "metadata": {
        "id": "da2a7bac-6659-40c3-a8b3-46ef15bf7b89"
      },
      "source": [
        "### <b> <center>4.  Синтез изображений</center></b>\n"
      ],
      "id": "da2a7bac-6659-40c3-a8b3-46ef15bf7b89"
    },
    {
      "cell_type": "markdown",
      "metadata": {
        "id": "fd98acd6-92f6-47c3-aa11-4d62742c9721"
      },
      "source": [
        "&emsp;&emsp;Не всегда имеется возможность собрать большой датасет, особенно остро это касается узкоспециализированных задач, например, в задаче детекции спецтранспорта не всегда можно найти вариативный датасет в открытых источниках, а собирать такой датасет и размечать достаточно трудоемко.<br>\n",
        "&emsp;&emsp;В таких задачах можно синтезировать датасет с разметкой, обучить на большом таком датасете, а затем дообучать на реальных данных.<br>\n",
        "&emsp;&emsp;Существует ряд подходов:<br>\n",
        "&emsp;&emsp;&emsp;&emsp;<b> - Подход на основе обучения модели генеративно-состязательной сети (GAN), и применения при генератора для генерации синтетических изображений </b><br>\n",
        "<center><img src=\"https://drive.google.com/uc?id=1Tec7P7W1hRz_AYMPY5l6jobgDfkWYVIi\" style=\"width:600;height:350px\"/></center><br>"
      ],
      "id": "fd98acd6-92f6-47c3-aa11-4d62742c9721"
    },
    {
      "cell_type": "markdown",
      "metadata": {
        "id": "1f474fed-75a7-4985-afd9-e6cbd5b2bd0a"
      },
      "source": [
        "&emsp;&emsp;&emsp;&emsp;<b> - Подход на основе rendering (обработки и визуализации) в 3D фреймворке, таким образом генерируются синтетические изображения с разметкой. <br>&emsp;&emsp;&emsp;&emsp;&emsp;Один из таких инструментов - [Blender](https://www.blender.org/). Удобен тем что: open source, позволяет строить pipeline на Python и возможен запуск синтеза изображений без GUI.</b><br>\n",
        "<center><img src=\"https://drive.google.com/uc?id=1_h-dgR_zQR9Glsjz2js620NIlQ6trm8E\" style=\"width:720;height:378px\"/></center>"
      ],
      "id": "1f474fed-75a7-4985-afd9-e6cbd5b2bd0a"
    },
    {
      "cell_type": "markdown",
      "metadata": {
        "id": "5f0350bd-b2e0-4668-a000-32121f2147df"
      },
      "source": [
        "#### <b> По теме синтез изображений на Blender рассмотрим на примере модели автомобиля с номером:</b>\n",
        "    4.1. Что представляет из себя Blender и из каких основных компонент состоит\n",
        "    4.2. Настройка сцены для задачи детекции (автомобиля и его номера)\n",
        "    4.3. Работа с Blender compositing для решаемой задачи\n",
        "    4.4. Python API и его применение для синтеза изображений\n",
        "    4.5. Финальная настройка pipeline синтеза изображений для запуска в режиме GUI less"
      ],
      "id": "5f0350bd-b2e0-4668-a000-32121f2147df"
    },
    {
      "cell_type": "markdown",
      "metadata": {
        "id": "0edb14a9-a08e-45be-8f89-1446bd395a95"
      },
      "source": [
        "#### <b> <center>4.1.  Blender и его основные компоненты</center></b>\n",
        "#####<b> <left>4.1.1  Подготовка к работе</left></b>\n",
        "Для работы нам понадобиться [проект Blender с моделями](https://drive.google.com/file/d/1YwSfkr0Ec6pl1etq-2k27q28czKBeVkv/view?usp=share_link), Который необходимо скачать и запустить.\n",
        "#####<b> <left>4.1.2  Работа в Blender проекте</left></b>\n",
        "&emsp;&emsp;Blender - бесплатное open source приложение с набором инструментов по построению 3D pipeline для: моделирования, анимации, симуляции, рендерингу (процесс получения изображения из 3D сцены) изображений, отслеживания движения, редактирования видео и создания игр.<br>\n",
        "&emsp;&emsp;В его состав входит достаточно большое количество инструментов, среди них можно выделить основные необходимы для синтеза изображений: <font color=\"purple\">Layout, Compositing и Scripting</font><br>\n",
        "<center><img src=\"https://drive.google.com/uc?id=1_FwgTSzwtNcsM7aopwNNFqYfSGAMdIdQ\" style=\"width:1280;height:720px\"/></center>\n",
        "<center><font color=\"purple\"><b>Layout</b></font> - инструментарий для моделирования и настройки элементов 3D сцены</center><br>\n",
        "<center><img src=\"https://drive.google.com/uc?id=1ortjhQLKE91FK6KmEk1kMF1hBsUeSneE\" style=\"width:1280;height:720px\"/></center>\n",
        "<center><font color=\"purple\"><b>Compositing</b></font> - инструментарий для финализации изображения (получение отрендеренного изображения, получения маски alpha канала, сохранения итогового изображения и т.д.).</center><br>\n",
        "<center><img src=\"https://drive.google.com/uc?id=17uPfiwutWihxznp-skJ4JGJk0X2PgYsV\" style=\"width:1280;height:720px\"/></center>\n",
        "<center><font color=\"purple\"><b>Scripting</b></font> - инструментарий Python API для автоматизации рендеринга и синтеза изображений</center>"
      ],
      "id": "0edb14a9-a08e-45be-8f89-1446bd395a95"
    },
    {
      "cell_type": "code",
      "execution_count": null,
      "metadata": {
        "id": "fc88c495-b598-41aa-b13e-6f2de895053d"
      },
      "outputs": [],
      "source": [
        "from ipywidgets import Video\n",
        "video = Video.from_file(\"/content/data/materials/video/layout_compositing_scripting.mp4\")\n",
        "video"
      ],
      "id": "fc88c495-b598-41aa-b13e-6f2de895053d"
    },
    {
      "cell_type": "markdown",
      "metadata": {
        "id": "528fe1a5-1dc4-4f68-a121-108b524f8b68"
      },
      "source": [
        "[<center>Демонстрация работы с инструментарием Layout, Compositing и Scripting</center>](https://drive.google.com/file/d/1ccJaGnKIgHP1ByRC5IBUEY9zNbWWKfeS/view?usp=share_link)"
      ],
      "id": "528fe1a5-1dc4-4f68-a121-108b524f8b68"
    },
    {
      "cell_type": "markdown",
      "metadata": {
        "id": "f44ec550-bf70-4565-a0b1-5cfca87630ee"
      },
      "source": [
        "### <b><center>Layout</center></b>\n",
        "&emsp;&emsp;Основной инструментарий работы с 3D сценой представлен на панелях:<br>\n",
        "&emsp;&emsp;&emsp;&emsp;&emsp;&emsp; - Панель перемещения, вращения, масштабирования (Transform - справа)<br>\n",
        "&emsp;&emsp;&emsp;&emsp;&emsp;&emsp; - Панель управления коллекциями элементов 3D сцены и слоями(Scene Collection - справа)<br>\n",
        "&emsp;&emsp;&emsp;&emsp;&emsp;&emsp; - Панель настроек свойств элементов 3D сцены(панель с иконками справа снизу)<br>\n",
        "&emsp;&emsp;Для нормального рендеринга в 3D сцене должны присутствовать:<br>\n",
        "&emsp;&emsp;&emsp;&emsp;&emsp;&emsp;1) любые 3D объекты сцены (машина, стены, пол, деревья, здания и т.д.);<br>\n",
        "&emsp;&emsp;&emsp;&emsp;&emsp;&emsp;2) освещение (в blender это источники света: солнечный, точечный, точечный направленный и точечный площадной);<br>\n",
        "&emsp;&emsp;&emsp;&emsp;&emsp;&emsp;3) камеры (отвечают за ракурс визуализации)<br>\n",
        "&emsp;&emsp;Каждый объект сцены может быть перемещен, повернут или отмасштабирован, а также обладает специализированными свойствами (например источник света имеет силу света - strength).<br>\n",
        "&emsp;&emsp;Объекты сцены можно также группировать в коллекции - collection и выполнять операции над такой группой. \n",
        "<br>&emsp;&emsp;Для изоляции объектов рендеринга можно создавать отдельные слои - layout (справа сверху)"
      ],
      "id": "f44ec550-bf70-4565-a0b1-5cfca87630ee"
    },
    {
      "cell_type": "code",
      "execution_count": null,
      "metadata": {
        "id": "3919f8f9-a1ce-42d3-be86-d2a861363548"
      },
      "outputs": [],
      "source": [
        "from ipywidgets import Video\n",
        "video = Video.from_file(\"/content/data/materials/video/layout.mp4\")\n",
        "video"
      ],
      "id": "3919f8f9-a1ce-42d3-be86-d2a861363548"
    },
    {
      "cell_type": "markdown",
      "metadata": {
        "id": "7cc20a03-2cad-4e88-8c1d-c4c13f70ecf6"
      },
      "source": [
        "[<center>Layout инструментарий. Панели трансформации  и работа с объектами, их параметрами и создание коллекций </center>](https://drive.google.com/file/d/1KHxBcBGUCZ640dXOXwREK8XpEBMH7Iam/view?usp=share_link)"
      ],
      "id": "7cc20a03-2cad-4e88-8c1d-c4c13f70ecf6"
    },
    {
      "cell_type": "markdown",
      "metadata": {
        "id": "bbd2b771-4541-40bd-8764-69752c0b3cea"
      },
      "source": [
        "#### <b> <center>4.2.  Настройка сцены для решения задачи детекции</center></b>"
      ],
      "id": "bbd2b771-4541-40bd-8764-69752c0b3cea"
    },
    {
      "cell_type": "markdown",
      "metadata": {
        "id": "04f92dba-0cef-417f-add9-39c98a9fee85"
      },
      "source": [
        "&emsp;&emsp;Для создания рендеринга с разметкой для задачи детекции необходимо:<br>\n",
        "&emsp;&emsp;&emsp;&emsp;&emsp;&emsp; 1. Создать коллекции для каждого класса (Car, License plate)<br>\n",
        "&emsp;&emsp;&emsp;&emsp;&emsp;&emsp; 2. Создать слой под каждый отдельный класс (All, Car_layer, License_plate_layer)<br>\n",
        "&emsp;&emsp;&emsp;&emsp;&emsp;&emsp; 3. В каждом слое изолировать коллекции, которые не должны участвовать в рендеринге<br>\n",
        "&emsp;&emsp;&emsp;&emsp;&emsp;&emsp; 4. Настройка параметров рендера<br>\n",
        "&emsp;&emsp; Создадим слои: All, Car_layer, License_plate_layer и изолируем коллекции, изолировав все коллекции кроме класса слоя <br>"
      ],
      "id": "04f92dba-0cef-417f-add9-39c98a9fee85"
    },
    {
      "cell_type": "markdown",
      "metadata": {
        "id": "f2353abb-c2f9-4f76-8933-2d33ca63a052"
      },
      "source": [
        "##### <b> <center>1. Создание коллекции под каждый отдельный класс</center></b><br>\n",
        "Создадим коллекции для генерации разметки под каждый класс: Car, License plate, Background"
      ],
      "id": "f2353abb-c2f9-4f76-8933-2d33ca63a052"
    },
    {
      "cell_type": "code",
      "execution_count": null,
      "metadata": {
        "id": "5f903d3d-4a75-44eb-a2eb-ca6c9eb25463"
      },
      "outputs": [],
      "source": [
        "from ipywidgets import Video\n",
        "video = Video.from_file(\"/content/data/materials/video/create_collections.mp4\")\n",
        "video"
      ],
      "id": "5f903d3d-4a75-44eb-a2eb-ca6c9eb25463"
    },
    {
      "cell_type": "markdown",
      "source": [
        "[<center>Создание коллекции под каждый отдельный класс</center>](https://drive.google.com/file/d/1E8lOOcguXcn4g5ONq_9dEd7Vp6k6bF6r/view?usp=share_link)"
      ],
      "metadata": {
        "id": "u3NEQKoFou9s"
      },
      "id": "u3NEQKoFou9s"
    },
    {
      "cell_type": "markdown",
      "metadata": {
        "id": "e3b817b5-24c1-47d9-b586-29ffedca1543"
      },
      "source": [
        "##### <b> <center>2. Создание слоев под каждый отдельный класс и изоляция коллекций</center></b><br>\n",
        "Создадим слои (Car_layer, License_plate_layer) и изолируем классы в каждом слое рендеринга. Это необходимо для рендеринга классов объектов по отдельности."
      ],
      "id": "e3b817b5-24c1-47d9-b586-29ffedca1543"
    },
    {
      "cell_type": "code",
      "execution_count": null,
      "metadata": {
        "id": "549e644e-9396-4614-8128-f274287deac0"
      },
      "outputs": [],
      "source": [
        "from ipywidgets import Video\n",
        "video = Video.from_file(\"/content/data/materials/video/create_layers_isolation_object_classes.mp4\")\n",
        "video"
      ],
      "id": "549e644e-9396-4614-8128-f274287deac0"
    },
    {
      "cell_type": "markdown",
      "source": [
        "[<center>Создание слоев под каждый отдельный класс и изоляция коллекций</center>](https://drive.google.com/file/d/1G_L7g0xNTGmEaplRID2a_41dz2ht-2Mp/view?usp=share_link)"
      ],
      "metadata": {
        "id": "f5fewm3HpXT-"
      },
      "id": "f5fewm3HpXT-"
    },
    {
      "cell_type": "markdown",
      "metadata": {
        "id": "f464b0fb-0c5e-4f75-9783-bc4e23ce301e"
      },
      "source": [
        "##### <b> <center>3. Настройка параметров рендера</center></b><br>\n",
        "Для финальной настройки рендера необходимо установить параметр прозрачности фона:"
      ],
      "id": "f464b0fb-0c5e-4f75-9783-bc4e23ce301e"
    },
    {
      "cell_type": "code",
      "execution_count": null,
      "metadata": {
        "id": "594529fc-017b-4c9c-acf5-ae44de59e5f1"
      },
      "outputs": [],
      "source": [
        "from ipywidgets import Video\n",
        "video = Video.from_file(\"/content/data/materials/video/render_setup.mp4\")\n",
        "video"
      ],
      "id": "594529fc-017b-4c9c-acf5-ae44de59e5f1"
    },
    {
      "cell_type": "markdown",
      "source": [
        "[<center>Настройка параметров рендера</center>](https://drive.google.com/file/d/1--Ir-eGolkLtaQuE477OViKnZ3P-sLhw/view?usp=share_link)"
      ],
      "metadata": {
        "id": "XNgRQufhpxHY"
      },
      "id": "XNgRQufhpxHY"
    },
    {
      "cell_type": "markdown",
      "metadata": {
        "id": "37745758-87d7-4648-9b3c-ec93087a93ca"
      },
      "source": [
        "Если нажать F12, то запустится рендеринг и можно увидеть, как проходит рендеринг по каждому слою (классу объектов)"
      ],
      "id": "37745758-87d7-4648-9b3c-ec93087a93ca"
    },
    {
      "cell_type": "markdown",
      "metadata": {
        "id": "72c5435e-256e-424e-8b4a-e2902e24dd52"
      },
      "source": [
        "#### <b> <center>4.3. Работа с Blender Compositing для решения задачи разметки</center></b>\n",
        "&emsp;&emsp;Инструментарий в виде графа, где происходит постобработка отрендеренного изображения. Граф позволяет менять цвета, работать с альфа-каналом, смешивать изображения, получая финализированное изображение. Помимо работы с изображение, имеется возможность также сохранять промежуточные изображения и их визуализация.<br>&emsp;&emsp;Весь граф представлен узлами - операторами над изображениями, и ребрами - связями между узлами. Связь узлов показывает как и куда изображение из левого узла передается в правый<br>"
      ],
      "id": "72c5435e-256e-424e-8b4a-e2902e24dd52"
    },
    {
      "cell_type": "code",
      "execution_count": null,
      "metadata": {
        "id": "7d7e8747-71dc-4513-ac91-ff7a48ce4caa"
      },
      "outputs": [],
      "source": [
        "from ipywidgets import Video\n",
        "video = Video.from_file(\"/content/data/materials/video/compositing.mp4\")\n",
        "video"
      ],
      "id": "7d7e8747-71dc-4513-ac91-ff7a48ce4caa"
    },
    {
      "cell_type": "markdown",
      "source": [
        "[<center>Работа с Blender Compositing для решения задачи разметки</center>](https://drive.google.com/file/d/1gryaBxFdV5rtJdIOWSXja128anqx7rcU/view?usp=share_link)"
      ],
      "metadata": {
        "id": "wNldfIXuqFo1"
      },
      "id": "wNldfIXuqFo1"
    },
    {
      "cell_type": "markdown",
      "metadata": {
        "id": "a32869ff-e9c3-4d7e-9881-3cdebeef472b"
      },
      "source": [
        "&emsp;&emsp;Постобработка для изображений под разметку представляет граф в состав которого входят:<br>\n",
        "&emsp;&emsp;&emsp;&emsp;&emsp;&emsp; 1. Входные узлы - Render Layers - позволяют получить изображения со слоев рендеринга<br>\n",
        "&emsp;&emsp;&emsp;&emsp;&emsp;&emsp; 2. Промежуточные - Alpha Over - создают бинарную маску по альфа каналу<br>\n",
        "&emsp;&emsp;&emsp;&emsp;&emsp;&emsp; 3. Выходные - Viewer - визуализируют в blender compositing<br>\n",
        "&emsp;&emsp;&emsp;&emsp;&emsp;&emsp; 4. Выходные - File Output - сохраняют финальное изображение<br>\n",
        "&emsp;&emsp; Создадим простой граф с сохранением готового изображения в папке: ./data/materials/blender_scene/dataset/images <br>\n",
        "(F12 - для запуска рендеринга и прогона изображения через граф compositing)"
      ],
      "id": "a32869ff-e9c3-4d7e-9881-3cdebeef472b"
    },
    {
      "cell_type": "code",
      "execution_count": null,
      "metadata": {
        "id": "fc9d77eb-794a-4cdd-b250-c50d334e05c9"
      },
      "outputs": [],
      "source": [
        "from ipywidgets import Video\n",
        "video = Video.from_file(\"/content/data/materials/video/compositing_image_synthesis.mp4\")\n",
        "video"
      ],
      "id": "fc9d77eb-794a-4cdd-b250-c50d334e05c9"
    },
    {
      "cell_type": "markdown",
      "source": [
        "[<center>Создание графа для генерации изображения</center>](https://drive.google.com/file/d/1gryaBxFdV5rtJdIOWSXja128anqx7rcU/view?usp=share_link)"
      ],
      "metadata": {
        "id": "fhGSt8r8qi7-"
      },
      "id": "fhGSt8r8qi7-"
    },
    {
      "cell_type": "markdown",
      "metadata": {
        "id": "84eb8ae0-3fb1-431d-b918-0c503426d08d"
      },
      "source": [
        "&emsp;&emsp; Создадим еще один граф с получением битовой маски автомобиля и сохранение изображения в папке: /content/data/materials/blender_scene/dataset/masks/car <br>(Для перемещение графа можно зажать на любом узле колесико мыши и перетащить, а приблизить/отдалить колесиком мыши вперед/назад)"
      ],
      "id": "84eb8ae0-3fb1-431d-b918-0c503426d08d"
    },
    {
      "cell_type": "code",
      "execution_count": null,
      "metadata": {
        "id": "98dcd9fd-d4c5-42c0-9806-a19ec7a40c8f"
      },
      "outputs": [],
      "source": [
        "from ipywidgets import Video\n",
        "video = Video.from_file(\"/content/data/materials/video/creating_bitmask_car_graph.mp4\")\n",
        "video"
      ],
      "id": "98dcd9fd-d4c5-42c0-9806-a19ec7a40c8f"
    },
    {
      "cell_type": "markdown",
      "source": [
        "[<center>Создание графа для генерации битовой маски</center>](https://drive.google.com/file/d/1G6M84u7Tu3iuZfhk7scZ893mH461eNG6/view?usp=share_link)"
      ],
      "metadata": {
        "id": "RrMDEXI4rIVN"
      },
      "id": "RrMDEXI4rIVN"
    },
    {
      "cell_type": "markdown",
      "metadata": {
        "id": "d8411e4d-957b-4538-a6a2-031bdcccd763"
      },
      "source": [
        "<b><i><font color=\"purple\">&emsp;&emsp;Задание:<br> \n",
        "        &emsp;&emsp;&emsp;&emsp;1. Создать граф с получением битовой маски номера автомобиля<br>\n",
        "</font></i></b>"
      ],
      "id": "d8411e4d-957b-4538-a6a2-031bdcccd763"
    },
    {
      "cell_type": "markdown",
      "metadata": {
        "id": "fef8b229-18d1-48bc-826d-b0206308bee1"
      },
      "source": [
        "#### <b> <center>4.4. Python API и его применение для синтеза изображений</center></b>\n",
        "Scripting - инструментарий с Python API. Состоит из нескольких панелей: <br>&emsp;&emsp;&emsp;&emsp;- Layout - для просмотра и редактирования 3D сцены <br>&emsp;&emsp;&emsp;&emsp;-  Terminal python console - для быстрой проверки и тестирования кода<br>&emsp;&emsp;&emsp;&emsp;- Information панель - для отображения сообщений по действиям в Blender (очень полезно для автоматизации). В режиме отладки показывает сообщения в виде кода по любому действию в Blender.<br>&emsp;&emsp;&emsp;&emsp;- Code панель - для написания и запуска кода<br>"
      ],
      "id": "fef8b229-18d1-48bc-826d-b0206308bee1"
    },
    {
      "cell_type": "code",
      "execution_count": null,
      "metadata": {
        "id": "e8b34f87-b01b-4924-8947-4693d5a7e573"
      },
      "outputs": [],
      "source": [
        "from ipywidgets import Video\n",
        "video = Video.from_file(\"/content/data/materials/video/scripting.mp4\")\n",
        "video"
      ],
      "id": "e8b34f87-b01b-4924-8947-4693d5a7e573"
    },
    {
      "cell_type": "markdown",
      "source": [
        "[<center> Scripting панель</center>](https://drive.google.com/file/d/1q0ZQx_2Hl70IGjN61hJVanhwVmgWVUpX/view?usp=share_link)"
      ],
      "metadata": {
        "id": "iQRUJsQtrf6E"
      },
      "id": "iQRUJsQtrf6E"
    },
    {
      "cell_type": "markdown",
      "metadata": {
        "id": "d3abebf2-519a-4eea-9e97-916520a7d6d2"
      },
      "source": [
        "Напишем скрипт перехода в режим отладки, запустим и потестируем этот режим на примере автоматизации создания куба в 3D Scene. <br>(Запуск скриптов в Blender - Alt+P или кнопка play в меню code панели)"
      ],
      "id": "d3abebf2-519a-4eea-9e97-916520a7d6d2"
    },
    {
      "cell_type": "code",
      "execution_count": null,
      "metadata": {
        "id": "3fa459dc-4774-4751-9765-f15dc82b66ee"
      },
      "outputs": [],
      "source": [
        "from ipywidgets import Video\n",
        "video = Video.from_file(\"/content/data/materials/video/scripting_debug_mode.mp4\")\n",
        "video"
      ],
      "id": "3fa459dc-4774-4751-9765-f15dc82b66ee"
    },
    {
      "cell_type": "markdown",
      "source": [
        "[<center> Режим Debug</center>](https://drive.google.com/file/d/1HZVH6gtrtaOA2jTZsIxEdvbYvhQElTKf/view?usp=share_link)"
      ],
      "metadata": {
        "id": "9-khPSanr8l7"
      },
      "id": "9-khPSanr8l7"
    },
    {
      "cell_type": "markdown",
      "metadata": {
        "id": "7d9c4b07-b00d-4cf0-a58e-2d5ecb195b80"
      },
      "source": [
        "&emsp;&emsp;Основная идея автоматизации синтеза изображений в Blender - написание скрипта, который рендерит изображения с максимальной вариативностью и соответствующей разметкой. Для получения таких изображений необходимо выставить камеру (отвечающую за ракурс) в случайном месте с фокусом на объекте(ах) для детекции (сегментации и т.д.) и по необходимости изменить внешний вид объектов, их положение и освещение.<br>&emsp;&emsp;Проверим допустимые границы видимости автомобиля через движение и поворот камерой.<br>(Для скрытия/показа панели в Layout можно использовать кнопку N)"
      ],
      "id": "7d9c4b07-b00d-4cf0-a58e-2d5ecb195b80"
    },
    {
      "cell_type": "code",
      "execution_count": null,
      "metadata": {
        "id": "3babdb06-8cb0-4f22-954d-7800774f2970"
      },
      "outputs": [],
      "source": [
        "from ipywidgets import Video\n",
        "video = Video.from_file(\"/content/data/materials/video/camera_variation_definition.mp4\")\n",
        "video"
      ],
      "id": "3babdb06-8cb0-4f22-954d-7800774f2970"
    },
    {
      "cell_type": "markdown",
      "source": [
        "[<center> Идея автоматизации синтеза изображения</center>](https://drive.google.com/file/d/1cJrpsPm1D5ywOWOUNiyKMxujOY6IM_kU/view?usp=share_link)"
      ],
      "metadata": {
        "id": "674DQTh-sm1e"
      },
      "id": "674DQTh-sm1e"
    },
    {
      "cell_type": "markdown",
      "metadata": {
        "id": "b53a875c-1022-4aab-b8bc-4e01861ce1cb"
      },
      "source": [
        "#### <b> <center>4.5. Финальная настройка pipeline синтеза изображений</center></b>\n",
        "Напишем скрипт для синтеза изображений.<br>\n",
        "<b><i><font color=\"purple\">&emsp;&emsp;Задание:<br> \n",
        "        &emsp;&emsp;&emsp;&emsp;1. Дописать функцию перемещения камеры (move_camera) для вариативного синтеза изображений<br>\n",
        "</font></i></b>"
      ],
      "id": "b53a875c-1022-4aab-b8bc-4e01861ce1cb"
    },
    {
      "cell_type": "code",
      "execution_count": null,
      "metadata": {
        "id": "fce65ba7-306d-4dca-9391-60a85ce78ae5"
      },
      "outputs": [],
      "source": [
        "%%writefile /content/data/materials/blender_scene/synthesis_images.py\n",
        "import bpy\n",
        "import numpy as np\n",
        "import time\n",
        "import math\n",
        "from os import listdir, mkdir, getcwd\n",
        "import random\n",
        "import uuid\n",
        "import argparse\n",
        "\n",
        "# README https://docs.blender.org/manual/en/2.79/data_system/files/relative_paths.html\n",
        "\n",
        "# Получение имени изображения \n",
        "# и файлов разметки(должно быть одинаковым)\n",
        "def get_name():\n",
        "    return f\"{str(uuid.uuid4()).replace('-','')}_frame_\"\n",
        "\n",
        "# Выставление одинакового имени файлов для всех\n",
        "# узлов File Output в Compositing\n",
        "def set_name_to_output_file(filename):\n",
        "    # set own filename for each image file\n",
        "    file_output_nodes = find_nodes_byname(\"File Output\")\n",
        "    for file_output_node in file_output_nodes:\n",
        "        file_output_node.file_slots[0].path = filename\n",
        "\n",
        "# Поиск узла в Compositing по имени\n",
        "def find_nodes_byname(node_name:str) -> list:\n",
        "    result_nodes = []\n",
        "    bpy.context.scene.use_nodes = True \n",
        "    tree = bpy.context.scene.node_tree.nodes\n",
        "    image_node = None\n",
        "    for node in tree:\n",
        "        if node.bl_label == node_name:\n",
        "            result_nodes.append(node)\n",
        "    return result_nodes\n",
        "\n",
        "# Функция рендеринга. Выставляет параметры рендеринга и\n",
        "# производит рендеринг с прогонкой через граф Compositing\n",
        "# и сохранением всех файлов изображений\n",
        "def render(**kwargs):\n",
        "    # Получение объектов сцены и рендера\n",
        "    render = bpy.context.scene.render\n",
        "    scene = bpy.context.scene\n",
        "    # Параметры сглаживания шума создаваемого рендером\n",
        "    scene.cycles.use_denoising = True\n",
        "    # scene.cycles.denoiser = 'OPTIX' # README https://github.com/dfelinto/blender/blob/master/intern/cycles/blender/addon/properties.py\n",
        "    scene.cycles.preview_denoising_input_passes = 'RGB_ALBEDO'\n",
        "    # Качество рендеринга - чем выше тем дольше рендер одного изображений и выше качество\n",
        "    scene.cycles.samples = kwargs['quality'] if 'quality' in kwargs else 32\n",
        "\n",
        "\n",
        "\n",
        "    # Имя и путь к файлу изображения генерируемого по умолчанию\n",
        "    render.filepath = f'{getcwd()}/test_image'\n",
        "    # Рендер CYCLES - более реалистичное качество чем Evee\n",
        "    render.engine = 'CYCLES'\n",
        "    # Параметры для работы с CUDA\n",
        "    scene.cycles.device = 'GPU'\n",
        "    # Разрешение изображений\n",
        "    render.resolution_x = 1920\n",
        "    render.resolution_y = 1080\n",
        "    # Параметр прозрачности при рендере фона, для png формата и работой с альфа каналом в Compositing\n",
        "    render.film_transparent = True\n",
        "    # Создание нового имени файла \n",
        "    set_name_to_output_file(get_name())\n",
        "    \n",
        "    # Запуск рендеринга\n",
        "    if 'layer' in kwargs:\n",
        "        bpy.ops.render.render(write_still=True, layer=kwargs['layer'])\n",
        "    else:\n",
        "        bpy.ops.render.render(write_still=True)\n",
        "    print('Rendering has completed')\n",
        "\n",
        "# Перемещение и вращение камеры на случайное расстояние и угол\n",
        "def move_camera():\n",
        "    # Перемещение камеры по оси X\n",
        "    bpy.data.objects[\"Camera\"].location[0] = bpy.data.objects[\"Camera\"].location[0] + random.randint(0,100)\n",
        "    # Перемещение камеры по оси Y\n",
        "    bpy.data.objects[\"Camera\"].location[1] = bpy.data.objects[\"Camera\"].location[1] + random.randint(0,100)\n",
        "    # Перемещение камеры по оси Z\n",
        "    bpy.data.objects[\"Camera\"].location[2] = bpy.data.objects[\"Camera\"].location[2] + random.randint(0,100)\n",
        "    # Поворот камеры вокруг оси X\n",
        "    bpy.data.objects[\"Camera\"].rotation_euler[0] = 2 * math.pi * random.randint(-45,-30) / 360\n",
        "    # Поворот камеры вокруг оси Z\n",
        "    bpy.data.objects[\"Camera\"].rotation_euler[2] = 2 * math.pi * random.randint(-45,-30) / 360\n",
        "\n",
        "if __name__ == \"__main__\":\n",
        "    images_count = 3\n",
        "    for index in range(images_count):\n",
        "        print(f\"====== Start synthesis image number {index + 1} =====\")\n",
        "        move_camera()\n",
        "        render(**{'quality':10})\n"
      ],
      "id": "fce65ba7-306d-4dca-9391-60a85ce78ae5"
    },
    {
      "cell_type": "markdown",
      "metadata": {
        "id": "277dad92-1ae6-441a-84b7-b1b767cbc4e4"
      },
      "source": [
        "Blender API Python позволяет запускать рендер (синтез) изображений из командной строки с необходимой сценой и отдельным python скриптом не загружая GUI Blender. Для этого необходимо передать в команду blender параметры:  путь к blender сцене, background - для запуска в NoGUI режиме и параметра python с указанием пути к python скрипту.<br>Пример запуска в терминале ниже: "
      ],
      "id": "277dad92-1ae6-441a-84b7-b1b767cbc4e4"
    },
    {
      "cell_type": "code",
      "execution_count": null,
      "metadata": {
        "id": "92ebc417-93f9-499f-a907-966b098f0864"
      },
      "outputs": [],
      "source": [
        "!blender /content/data/materials/blender_scene/synthesis_scene_ready.blend --background --python /content/data/materials/blender_scene/synthesis_images_ready.py"
      ],
      "id": "92ebc417-93f9-499f-a907-966b098f0864"
    },
    {
      "cell_type": "markdown",
      "metadata": {
        "id": "a5175a22-03ca-42a9-b270-7a60012fb8de"
      },
      "source": [
        "После прогона скрипта в папке /content/data/materials/blender_scene/dataset/ в папках images и masks синтезируются файлы изображений с объектами и их масками.<br><br>Пример функции получения координат boundingbox по синтезированной маске:"
      ],
      "id": "a5175a22-03ca-42a9-b270-7a60012fb8de"
    },
    {
      "cell_type": "code",
      "execution_count": null,
      "metadata": {
        "id": "18e4eefd-c68b-4c8d-ba00-f63c8632425c"
      },
      "outputs": [],
      "source": [
        "import cv2\n",
        "import numpy as np\n",
        "import ipyplot\n",
        "########## Constants ##################\n",
        "color = (255, 0, 255) # фиолетовый цвет - boundingbox изображения\n",
        "thickness = 1 # толщина линии\n",
        "path_to_mask = \"/content/data/materials/blender_scene/dataset/masks/car/2c62c2414cff47dbb0e7df0a118f05d9_frame_0001.png\" # Путь к маске изображения автомобиля\n",
        "#######################################\n",
        "\n",
        "# Функция получения координат boundingbox из маски изображения\n",
        "# path_to_mask - путь к маске-изображению\n",
        "# mask_threshold - порог отсечения шума вызванного особенностями рендеринга\n",
        "# visualize - параметр отображения битовой маски и boundingbox после обработки\n",
        "#  color - параметр цвета boundingbox\n",
        "#  thickness - параметр толщины boundingbox\n",
        "def get_bbox(path_to_mask: str, mask_threshold: int=10, visualize: bool=True, color: tuple=(255, 0, 255), thickness: int=1)->None:\n",
        "        image = cv2.imread(path_to_mask)\n",
        "        # Получение bitmask\n",
        "        bitmask =  image[:, :, 0].copy()\n",
        "        bitmask[np.where(bitmask <= mask_threshold)] = 0\n",
        "        bitmask[np.where(bitmask > mask_threshold)] = 1\n",
        "        # Получение координат boundingbox\n",
        "        points =  np.where(bitmask == 1)\n",
        "        xmin = int(np.min(points[1]))\n",
        "        xmax = int(np.max(points[1]))\n",
        "        ymin = int(np.min(points[0]))\n",
        "        ymax = int(np.max(points[0]))\n",
        "        # Визуализация\n",
        "        if visualize:\n",
        "            _ , width, _ = image.shape\n",
        "            image[np.where(image <= mask_threshold)] = 0\n",
        "            image[np.where(image > mask_threshold)] = 255\n",
        "            # Отображение полученного boundingbox\n",
        "            image = cv2.rectangle(image, (xmin, ymin), (xmax, ymax), color=color, thickness=thickness)\n",
        "            ipyplot.plot_images([image], max_images=1, img_width = width//2)\n",
        "        return (xmin, ymin, xmax, ymax)\n",
        "\n",
        "get_bbox(path_to_mask)"
      ],
      "id": "18e4eefd-c68b-4c8d-ba00-f63c8632425c"
    },
    {
      "cell_type": "markdown",
      "metadata": {
        "id": "49e00a82-307a-4d0d-ae2c-40f8910af2a3"
      },
      "source": [
        "<b><i><font color=\"green\">Задание к самостоятельной проработке:<br> \n",
        "        &emsp;&emsp;&emsp;&emsp;1. Написать функцию получения разметки из всех классов синтезированных в Blender <br>\n",
        "</font></i></b><br>"
      ],
      "id": "49e00a82-307a-4d0d-ae2c-40f8910af2a3"
    }
  ],
  "metadata": {
    "colab": {
      "provenance": []
    },
    "kernelspec": {
      "display_name": "Python 3 (ipykernel)",
      "language": "python",
      "name": "python3"
    },
    "language_info": {
      "codemirror_mode": {
        "name": "ipython",
        "version": 3
      },
      "file_extension": ".py",
      "mimetype": "text/x-python",
      "name": "python",
      "nbconvert_exporter": "python",
      "pygments_lexer": "ipython3",
      "version": "3.8.10"
    },
    "toc-autonumbering": false,
    "toc-showmarkdowntxt": false
  },
  "nbformat": 4,
  "nbformat_minor": 5
}